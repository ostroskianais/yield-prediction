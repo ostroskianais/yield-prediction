{
  "nbformat": 4,
  "nbformat_minor": 0,
  "metadata": {
    "colab": {
      "name": "yield-model.ipynb",
      "provenance": [],
      "mount_file_id": "1NrdsGHsbj7QeHPmwdjcTYF0rjsNSgvMM",
      "authorship_tag": "ABX9TyNf4RqF0qaoKIcEYQHGqLjC",
      "include_colab_link": true
    },
    "kernelspec": {
      "name": "python3",
      "display_name": "Python 3"
    },
    "language_info": {
      "name": "python"
    }
  },
  "cells": [
    {
      "cell_type": "markdown",
      "metadata": {
        "id": "view-in-github",
        "colab_type": "text"
      },
      "source": [
        "<a href=\"https://colab.research.google.com/github/ostroskianais/yield-prediction/blob/main/yield_model.ipynb\" target=\"_parent\"><img src=\"https://colab.research.google.com/assets/colab-badge.svg\" alt=\"Open In Colab\"/></a>"
      ]
    },
    {
      "cell_type": "code",
      "source": [
        "!pip install tensorflow_decision_forests"
      ],
      "metadata": {
        "id": "-uEvbb1_f9G7"
      },
      "execution_count": null,
      "outputs": []
    },
    {
      "cell_type": "markdown",
      "source": [
        "# Data"
      ],
      "metadata": {
        "id": "AkMFQbkbzopy"
      }
    },
    {
      "cell_type": "code",
      "source": [
        "import tensorflow as tf\n",
        "import tensorflow_decision_forests as tfdf\n",
        "import numpy as np\n",
        "import pandas as pd # For reading .csv\n",
        "from datetime import datetime # For knowing how long does each read/write take\n",
        "\n",
        "train_csv = pd.read_csv(\"/content/drive/MyDrive/yield-data/train.csv\").drop('medianArea',1)\n",
        "test_csv = pd.read_csv(\"/content/drive/MyDrive/yield-data/test.csv\").drop('medianArea',1)"
      ],
      "metadata": {
        "id": "GWkK5QJYzjB0",
        "colab": {
          "base_uri": "https://localhost:8080/"
        },
        "outputId": "c7aa132d-17df-4d96-c8ea-84f6e33a6452"
      },
      "execution_count": 3,
      "outputs": [
        {
          "output_type": "stream",
          "name": "stderr",
          "text": [
            "/usr/local/lib/python3.7/dist-packages/ipykernel_launcher.py:7: FutureWarning: In a future version of pandas all arguments of DataFrame.drop except for the argument 'labels' will be keyword-only\n",
            "  import sys\n",
            "/usr/local/lib/python3.7/dist-packages/ipykernel_launcher.py:8: FutureWarning: In a future version of pandas all arguments of DataFrame.drop except for the argument 'labels' will be keyword-only\n",
            "  \n"
          ]
        }
      ]
    },
    {
      "cell_type": "code",
      "source": [
        "def df_to_dataset(dataframe, shuffle=True, batch_size=1):\n",
        "  #Creates a tf.data dataset from pandas dataframe\n",
        "  dataframe = dataframe.copy()\n",
        "  labels = dataframe.pop('yield')\n",
        "  ds = tf.data.Dataset.from_tensor_slices((dict(dataframe), labels))\n",
        "  if shuffle:\n",
        "    ds = ds.shuffle(buffer_size=len(dataframe))\n",
        "  # Process a batch-size at a time\n",
        "  ds = ds.batch(batch_size)\n",
        "  # Prefetching allows us to optimise fethcing of data and training\n",
        "  ds = ds.prefetch(batch_size)\n",
        "  return ds"
      ],
      "metadata": {
        "id": "folYKaJm1GHR"
      },
      "execution_count": null,
      "outputs": []
    },
    {
      "cell_type": "code",
      "source": [
        "train_ds = df_to_dataset(train_csv, shuffle=False)\n",
        "test_ds = df_to_dataset(test_csv, shuffle=False)\n",
        "train_ds"
      ],
      "metadata": {
        "colab": {
          "base_uri": "https://localhost:8080/"
        },
        "id": "VGZOWJ6i2I2R",
        "outputId": "396291fe-feac-48ca-ca56-4ce6a4d33a7c"
      },
      "execution_count": null,
      "outputs": [
        {
          "output_type": "execute_result",
          "data": {
            "text/plain": [
              "<PrefetchDataset element_spec=({'NDVI': TensorSpec(shape=(None,), dtype=tf.float64, name=None), 'tmean': TensorSpec(shape=(None,), dtype=tf.float64, name=None), 'medianArea': TensorSpec(shape=(None,), dtype=tf.float64, name=None), 'vpdmax': TensorSpec(shape=(None,), dtype=tf.float64, name=None), 'ppt': TensorSpec(shape=(None,), dtype=tf.float64, name=None)}, TensorSpec(shape=(None,), dtype=tf.float64, name=None))>"
            ]
          },
          "metadata": {},
          "execution_count": 3
        }
      ]
    },
    {
      "cell_type": "code",
      "source": [
        "[(train_features, label_batch)] = train_ds.take(1)\n",
        "print('Every feature:', list(train_features.keys()))\n",
        "print('A batch of NDVI: ', train_features['NDVI'])\n",
        "print('A batch of labels: ', label_batch)"
      ],
      "metadata": {
        "colab": {
          "base_uri": "https://localhost:8080/"
        },
        "id": "bwA8dR4q2gyy",
        "outputId": "1b02b489-e3d2-4521-afe4-0ef0458f2073"
      },
      "execution_count": null,
      "outputs": [
        {
          "output_type": "stream",
          "name": "stdout",
          "text": [
            "Every feature: ['NDVI', 'tmean', 'medianArea', 'vpdmax', 'ppt']\n",
            "A batch of NDVI:  tf.Tensor([0.87556317], shape=(1,), dtype=float64)\n",
            "A batch of labels:  tf.Tensor([39.], shape=(1,), dtype=float64)\n"
          ]
        }
      ]
    },
    {
      "cell_type": "code",
      "source": [
        "all_inputs = []\n",
        "\n",
        "columns = ['NDVI', 'tmean', 'medianArea', 'vpdmax', 'ppt']\n",
        "for column_name in columns:\n",
        "  column = tf.keras.Input(shape=(1,), name=column_name)\n",
        "  all_inputs.append(column)\n",
        "\n",
        "all_inputs"
      ],
      "metadata": {
        "colab": {
          "base_uri": "https://localhost:8080/"
        },
        "id": "eqtOX_ll8xD_",
        "outputId": "960244a0-4239-41dc-8058-b792b7da4159"
      },
      "execution_count": null,
      "outputs": [
        {
          "output_type": "execute_result",
          "data": {
            "text/plain": [
              "[<KerasTensor: shape=(None, 1) dtype=float32 (created by layer 'NDVI')>,\n",
              " <KerasTensor: shape=(None, 1) dtype=float32 (created by layer 'tmean')>,\n",
              " <KerasTensor: shape=(None, 1) dtype=float32 (created by layer 'medianArea')>,\n",
              " <KerasTensor: shape=(None, 1) dtype=float32 (created by layer 'vpdmax')>,\n",
              " <KerasTensor: shape=(None, 1) dtype=float32 (created by layer 'ppt')>]"
            ]
          },
          "metadata": {},
          "execution_count": 5
        }
      ]
    },
    {
      "cell_type": "code",
      "source": [
        "all_features = tf.keras.layers.concatenate(all_inputs)\n",
        "# output_layer = tf.keras.layers.Dense(300)\n",
        "x = tf.keras.layers.Dense(10, activation=\"relu\")(all_features)\n",
        "x = tf.keras.layers.Dense(20, activation=\"relu\")(x)\n",
        "x = tf.keras.layers.Dropout(0.1)(x)\n",
        "output = tf.keras.layers.Dense(1)(x)"
      ],
      "metadata": {
        "id": "rTz-urzv8JCI"
      },
      "execution_count": null,
      "outputs": []
    },
    {
      "cell_type": "markdown",
      "source": [
        "# Random Forest"
      ],
      "metadata": {
        "id": "LudKIZUKgndo"
      }
    },
    {
      "cell_type": "code",
      "source": [
        "train_ds = tfdf.keras.pd_dataframe_to_tf_dataset(train_csv, label=\"yield\", task=tfdf.keras.Task.REGRESSION)\n",
        "test_ds = tfdf.keras.pd_dataframe_to_tf_dataset(test_csv, label=\"yield\", task=tfdf.keras.Task.REGRESSION)"
      ],
      "metadata": {
        "colab": {
          "base_uri": "https://localhost:8080/"
        },
        "id": "Q8pH0QMLgp7O",
        "outputId": "aff9fbab-5620-4ed7-aebf-0461d9d2daff"
      },
      "execution_count": 18,
      "outputs": [
        {
          "output_type": "stream",
          "name": "stderr",
          "text": [
            "/usr/local/lib/python3.7/dist-packages/tensorflow_decision_forests/keras/core.py:2542: FutureWarning: In a future version of pandas all arguments of DataFrame.drop except for the argument 'labels' will be keyword-only\n",
            "  features_dataframe = dataframe.drop(label, 1)\n"
          ]
        }
      ]
    },
    {
      "cell_type": "code",
      "source": [
        "# Specify the model.\n",
        "model_1 = tfdf.keras.RandomForestModel(task=tfdf.keras.Task.REGRESSION, num_trees=300)\n",
        "\n",
        "# Train the model.\n",
        "model_1.fit(x=train_ds, validation_split=0.2)"
      ],
      "metadata": {
        "id": "pIXKQUjLgwvX",
        "colab": {
          "base_uri": "https://localhost:8080/"
        },
        "outputId": "40672925-cf3d-47f8-db48-29c39a609a02"
      },
      "execution_count": 75,
      "outputs": [
        {
          "output_type": "stream",
          "name": "stdout",
          "text": [
            "Use /tmp/tmp75j9xq1f as temporary training directory\n",
            "Warning: Model constructor argument validation_split=0.2 not supported. See https://www.tensorflow.org/decision_forests/migration for an explanation about the specificities of TF-DF.\n"
          ]
        },
        {
          "output_type": "stream",
          "name": "stderr",
          "text": [
            "WARNING:absl:Model constructor argument validation_split=0.2 not supported. See https://www.tensorflow.org/decision_forests/migration for an explanation about the specificities of TF-DF.\n"
          ]
        },
        {
          "output_type": "stream",
          "name": "stdout",
          "text": [
            "Reading training dataset...\n",
            "Training dataset read in 0:00:00.323660. Found 800 examples.\n",
            "Training model...\n",
            "Model trained in 0:00:01.132287\n",
            "Compiling model...\n",
            "Model compiled.\n"
          ]
        },
        {
          "output_type": "execute_result",
          "data": {
            "text/plain": [
              "<keras.callbacks.History at 0x7fd8bafd7ed0>"
            ]
          },
          "metadata": {},
          "execution_count": 75
        }
      ]
    },
    {
      "cell_type": "code",
      "source": [
        "model_1.summary()"
      ],
      "metadata": {
        "colab": {
          "base_uri": "https://localhost:8080/"
        },
        "id": "6AOS7uZIi1HL",
        "outputId": "f4adfbc7-d58f-415a-eda9-103ec9547347"
      },
      "execution_count": 76,
      "outputs": [
        {
          "output_type": "stream",
          "name": "stdout",
          "text": [
            "Model: \"random_forest_model_2\"\n",
            "_________________________________________________________________\n",
            " Layer (type)                Output Shape              Param #   \n",
            "=================================================================\n",
            "=================================================================\n",
            "Total params: 1\n",
            "Trainable params: 0\n",
            "Non-trainable params: 1\n",
            "_________________________________________________________________\n",
            "Type: \"RANDOM_FOREST\"\n",
            "Task: REGRESSION\n",
            "Label: \"__LABEL\"\n",
            "\n",
            "Input Features (4):\n",
            "\tNDVI\n",
            "\tppt\n",
            "\ttmean\n",
            "\tvpdmax\n",
            "\n",
            "No weights\n",
            "\n",
            "Variable Importance: MEAN_MIN_DEPTH:\n",
            "    1. \"__LABEL\"  9.109025 ################\n",
            "    2.  \"vpdmax\"  3.882895 ######\n",
            "    3.   \"tmean\"  3.406346 #####\n",
            "    4.     \"ppt\"  1.788405 ##\n",
            "    5.    \"NDVI\"  0.474034 \n",
            "\n",
            "Variable Importance: NUM_AS_ROOT:\n",
            "    1.  \"NDVI\" 195.000000 ################\n",
            "    2.   \"ppt\" 85.000000 #####\n",
            "    3. \"tmean\" 20.000000 \n",
            "\n",
            "Variable Importance: NUM_NODES:\n",
            "    1.   \"NDVI\" 9794.000000 ################\n",
            "    2.  \"tmean\" 9615.000000 ############\n",
            "    3. \"vpdmax\" 9038.000000 ###\n",
            "    4.    \"ppt\" 8854.000000 \n",
            "\n",
            "Variable Importance: SUM_SCORE:\n",
            "    1.   \"NDVI\" 9201441.845216 ################\n",
            "    2.    \"ppt\" 5533713.869260 ######\n",
            "    3.  \"tmean\" 3733759.316328 #\n",
            "    4. \"vpdmax\" 3154745.901422 \n",
            "\n",
            "\n",
            "\n",
            "Out-of-bag evaluation: rmse:6.10775\n",
            "Number of trees: 300\n",
            "Total number of nodes: 74902\n",
            "\n",
            "Number of nodes by tree:\n",
            "Count: 300 Average: 249.673 StdDev: 7.46637\n",
            "Min: 221 Max: 265 Ignored: 0\n",
            "----------------------------------------------\n",
            "[ 221, 223)  1   0.33%   0.33%\n",
            "[ 223, 225)  1   0.33%   0.67%\n",
            "[ 225, 227)  1   0.33%   1.00%\n",
            "[ 227, 230)  3   1.00%   2.00% #\n",
            "[ 230, 232)  2   0.67%   2.67%\n",
            "[ 232, 234)  3   1.00%   3.67% #\n",
            "[ 234, 236)  5   1.67%   5.33% #\n",
            "[ 236, 239)  4   1.33%   6.67% #\n",
            "[ 239, 241) 12   4.00%  10.67% ###\n",
            "[ 241, 243) 11   3.67%  14.33% ##\n",
            "[ 243, 245) 16   5.33%  19.67% ###\n",
            "[ 245, 248) 45  15.00%  34.67% ##########\n",
            "[ 248, 250) 26   8.67%  43.33% ######\n",
            "[ 250, 252) 39  13.00%  56.33% ########\n",
            "[ 252, 254) 47  15.67%  72.00% ##########\n",
            "[ 254, 257) 36  12.00%  84.00% ########\n",
            "[ 257, 259) 17   5.67%  89.67% ####\n",
            "[ 259, 261) 16   5.33%  95.00% ###\n",
            "[ 261, 263)  8   2.67%  97.67% ##\n",
            "[ 263, 265]  7   2.33% 100.00% #\n",
            "\n",
            "Depth by leafs:\n",
            "Count: 37601 Average: 9.10598 StdDev: 2.71911\n",
            "Min: 2 Max: 15 Ignored: 0\n",
            "----------------------------------------------\n",
            "[  2,  3)   20   0.05%   0.05%\n",
            "[  3,  4)  301   0.80%   0.85% #\n",
            "[  4,  5) 1117   2.97%   3.82% ##\n",
            "[  5,  6) 2088   5.55%   9.38% ####\n",
            "[  6,  7) 3318   8.82%  18.20% ######\n",
            "[  7,  8) 4206  11.19%  29.39% ########\n",
            "[  8,  9) 5022  13.36%  42.74% ##########\n",
            "[  9, 10) 5230  13.91%  56.65% ##########\n",
            "[ 10, 11) 4863  12.93%  69.59% #########\n",
            "[ 11, 12) 3992  10.62%  80.20% ########\n",
            "[ 12, 13) 2881   7.66%  87.86% ######\n",
            "[ 13, 14) 2137   5.68%  93.55% ####\n",
            "[ 14, 15) 1338   3.56%  97.11% ###\n",
            "[ 15, 15] 1088   2.89% 100.00% ##\n",
            "\n",
            "Number of training obs by leaf:\n",
            "Count: 37601 Average: 6.38281 StdDev: 1.92429\n",
            "Min: 5 Max: 82 Ignored: 0\n",
            "----------------------------------------------\n",
            "[  5,  8) 29210  77.68%  77.68% ##########\n",
            "[  8, 12)  8194  21.79%  99.48% ###\n",
            "[ 12, 16)    81   0.22%  99.69%\n",
            "[ 16, 20)    40   0.11%  99.80%\n",
            "[ 20, 24)    28   0.07%  99.87%\n",
            "[ 24, 28)     9   0.02%  99.90%\n",
            "[ 28, 32)    12   0.03%  99.93%\n",
            "[ 32, 36)     4   0.01%  99.94%\n",
            "[ 36, 40)     9   0.02%  99.96%\n",
            "[ 40, 44)     5   0.01%  99.98%\n",
            "[ 44, 47)     2   0.01%  99.98%\n",
            "[ 47, 51)     0   0.00%  99.98%\n",
            "[ 51, 55)     3   0.01%  99.99%\n",
            "[ 55, 59)     1   0.00%  99.99%\n",
            "[ 59, 63)     0   0.00%  99.99%\n",
            "[ 63, 67)     1   0.00%  99.99%\n",
            "[ 67, 71)     0   0.00%  99.99%\n",
            "[ 71, 75)     1   0.00% 100.00%\n",
            "[ 75, 79)     0   0.00% 100.00%\n",
            "[ 79, 82]     1   0.00% 100.00%\n",
            "\n",
            "Attribute in nodes:\n",
            "\t9794 : NDVI [NUMERICAL]\n",
            "\t9615 : tmean [NUMERICAL]\n",
            "\t9038 : vpdmax [NUMERICAL]\n",
            "\t8854 : ppt [NUMERICAL]\n",
            "\n",
            "Attribute in nodes with depth <= 0:\n",
            "\t195 : NDVI [NUMERICAL]\n",
            "\t85 : ppt [NUMERICAL]\n",
            "\t20 : tmean [NUMERICAL]\n",
            "\n",
            "Attribute in nodes with depth <= 1:\n",
            "\t421 : NDVI [NUMERICAL]\n",
            "\t328 : ppt [NUMERICAL]\n",
            "\t103 : tmean [NUMERICAL]\n",
            "\t48 : vpdmax [NUMERICAL]\n",
            "\n",
            "Attribute in nodes with depth <= 2:\n",
            "\t821 : NDVI [NUMERICAL]\n",
            "\t587 : ppt [NUMERICAL]\n",
            "\t365 : tmean [NUMERICAL]\n",
            "\t307 : vpdmax [NUMERICAL]\n",
            "\n",
            "Attribute in nodes with depth <= 3:\n",
            "\t1426 : NDVI [NUMERICAL]\n",
            "\t1051 : ppt [NUMERICAL]\n",
            "\t886 : tmean [NUMERICAL]\n",
            "\t776 : vpdmax [NUMERICAL]\n",
            "\n",
            "Attribute in nodes with depth <= 5:\n",
            "\t3237 : NDVI [NUMERICAL]\n",
            "\t2906 : tmean [NUMERICAL]\n",
            "\t2589 : ppt [NUMERICAL]\n",
            "\t2322 : vpdmax [NUMERICAL]\n",
            "\n",
            "Condition type in nodes:\n",
            "\t37301 : HigherCondition\n",
            "Condition type in nodes with depth <= 0:\n",
            "\t300 : HigherCondition\n",
            "Condition type in nodes with depth <= 1:\n",
            "\t900 : HigherCondition\n",
            "Condition type in nodes with depth <= 2:\n",
            "\t2080 : HigherCondition\n",
            "Condition type in nodes with depth <= 3:\n",
            "\t4139 : HigherCondition\n",
            "Condition type in nodes with depth <= 5:\n",
            "\t11054 : HigherCondition\n",
            "Node format: NOT_SET\n",
            "\n",
            "Training OOB:\n",
            "\ttrees: 1, Out-of-bag evaluation: rmse:7.70898\n",
            "\ttrees: 11, Out-of-bag evaluation: rmse:6.60211\n",
            "\ttrees: 21, Out-of-bag evaluation: rmse:6.40596\n",
            "\ttrees: 31, Out-of-bag evaluation: rmse:6.20383\n",
            "\ttrees: 41, Out-of-bag evaluation: rmse:6.16471\n",
            "\ttrees: 51, Out-of-bag evaluation: rmse:6.19447\n",
            "\ttrees: 61, Out-of-bag evaluation: rmse:6.21906\n",
            "\ttrees: 71, Out-of-bag evaluation: rmse:6.2092\n",
            "\ttrees: 81, Out-of-bag evaluation: rmse:6.18191\n",
            "\ttrees: 91, Out-of-bag evaluation: rmse:6.1722\n",
            "\ttrees: 101, Out-of-bag evaluation: rmse:6.16167\n",
            "\ttrees: 111, Out-of-bag evaluation: rmse:6.14074\n",
            "\ttrees: 121, Out-of-bag evaluation: rmse:6.14909\n",
            "\ttrees: 131, Out-of-bag evaluation: rmse:6.13644\n",
            "\ttrees: 141, Out-of-bag evaluation: rmse:6.12986\n",
            "\ttrees: 151, Out-of-bag evaluation: rmse:6.12794\n",
            "\ttrees: 161, Out-of-bag evaluation: rmse:6.11858\n",
            "\ttrees: 171, Out-of-bag evaluation: rmse:6.11904\n",
            "\ttrees: 181, Out-of-bag evaluation: rmse:6.11682\n",
            "\ttrees: 191, Out-of-bag evaluation: rmse:6.11543\n",
            "\ttrees: 201, Out-of-bag evaluation: rmse:6.1088\n",
            "\ttrees: 211, Out-of-bag evaluation: rmse:6.10521\n",
            "\ttrees: 221, Out-of-bag evaluation: rmse:6.1033\n",
            "\ttrees: 231, Out-of-bag evaluation: rmse:6.10093\n",
            "\ttrees: 241, Out-of-bag evaluation: rmse:6.09879\n",
            "\ttrees: 251, Out-of-bag evaluation: rmse:6.10206\n",
            "\ttrees: 261, Out-of-bag evaluation: rmse:6.10355\n",
            "\ttrees: 271, Out-of-bag evaluation: rmse:6.10587\n",
            "\ttrees: 281, Out-of-bag evaluation: rmse:6.11019\n",
            "\ttrees: 292, Out-of-bag evaluation: rmse:6.10517\n",
            "\ttrees: 300, Out-of-bag evaluation: rmse:6.10775\n",
            "\n"
          ]
        }
      ]
    },
    {
      "cell_type": "code",
      "source": [
        "model_1.compile(#loss=tf.keras.metrics.mean_squared_error,\n",
        "                metrics=[tf.keras.metrics.RootMeanSquaredError(name='rmse'),\n",
        "                         \"mean_squared_error\"])\n",
        "\n",
        "evaluation = model_1.evaluate(test_ds, return_dict=True)\n",
        "print()\n",
        "\n",
        "for name, value in evaluation.items():\n",
        "  print(f\"{name}: {value:.4f}\")"
      ],
      "metadata": {
        "colab": {
          "base_uri": "https://localhost:8080/"
        },
        "id": "LvERMPTchXtQ",
        "outputId": "6d1c5b2d-c22d-427f-dec0-163c11a7ad53"
      },
      "execution_count": 77,
      "outputs": [
        {
          "output_type": "stream",
          "name": "stdout",
          "text": [
            "1/1 [==============================] - 0s 163ms/step - loss: 0.0000e+00 - rmse: 5.3595 - mean_squared_error: 28.7239\n",
            "\n",
            "loss: 0.0000\n",
            "rmse: 5.3595\n",
            "mean_squared_error: 28.7239\n"
          ]
        }
      ]
    },
    {
      "cell_type": "code",
      "source": [
        "pred_test = model_1.predict(test_ds)\n",
        "pred_train = model_1.predict(train_ds)"
      ],
      "metadata": {
        "colab": {
          "base_uri": "https://localhost:8080/"
        },
        "id": "DsxkjBuFo7vo",
        "outputId": "6655a6f0-1e0d-4cc2-e622-a9fb989000e9"
      },
      "execution_count": 78,
      "outputs": [
        {
          "output_type": "stream",
          "name": "stdout",
          "text": [
            "WARNING:tensorflow:5 out of the last 188 calls to <function CoreModel.make_predict_function.<locals>.predict_function_trained at 0x7fd8bc29a0e0> triggered tf.function retracing. Tracing is expensive and the excessive number of tracings could be due to (1) creating @tf.function repeatedly in a loop, (2) passing tensors with different shapes, (3) passing Python objects instead of tensors. For (1), please define your @tf.function outside of the loop. For (2), @tf.function has reduce_retracing=True option that can avoid unnecessary retracing. For (3), please refer to https://www.tensorflow.org/guide/function#controlling_retracing and https://www.tensorflow.org/api_docs/python/tf/function for  more details.\n"
          ]
        },
        {
          "output_type": "stream",
          "name": "stderr",
          "text": [
            "WARNING:tensorflow:5 out of the last 188 calls to <function CoreModel.make_predict_function.<locals>.predict_function_trained at 0x7fd8bc29a0e0> triggered tf.function retracing. Tracing is expensive and the excessive number of tracings could be due to (1) creating @tf.function repeatedly in a loop, (2) passing tensors with different shapes, (3) passing Python objects instead of tensors. For (1), please define your @tf.function outside of the loop. For (2), @tf.function has reduce_retracing=True option that can avoid unnecessary retracing. For (3), please refer to https://www.tensorflow.org/guide/function#controlling_retracing and https://www.tensorflow.org/api_docs/python/tf/function for  more details.\n"
          ]
        },
        {
          "output_type": "stream",
          "name": "stdout",
          "text": [
            "1/1 [==============================] - 0s 58ms/step\n",
            "1/1 [==============================] - 0s 60ms/step\n"
          ]
        }
      ]
    },
    {
      "cell_type": "code",
      "source": [
        "import matplotlib.pyplot as plt\n",
        "\n",
        "plt.figure(figsize=(10,10))\n",
        "plt.plot(train_csv[\"yield\"], train_csv[\"yield\"], c='black')\n",
        "plt.plot(test_csv[\"yield\"], test_csv[\"yield\"], c='black')\n",
        "plt.scatter(train_csv[\"yield\"], pred_train, c='blue')\n",
        "plt.scatter(test_csv[\"yield\"], pred_test, c='crimson')\n",
        "plt.axis('equal')"
      ],
      "metadata": {
        "colab": {
          "base_uri": "https://localhost:8080/",
          "height": 609
        },
        "id": "xHQ0CNE1pWVP",
        "outputId": "b16fccc9-a23c-4e17-b110-605051624000"
      },
      "execution_count": 79,
      "outputs": [
        {
          "output_type": "execute_result",
          "data": {
            "text/plain": [
              "(1.0999999999999996, 75.9, 1.0999999999999996, 75.9)"
            ]
          },
          "metadata": {},
          "execution_count": 79
        },
        {
          "output_type": "display_data",
          "data": {
            "text/plain": [
              "<Figure size 720x720 with 1 Axes>"
            ],
            "image/png": "[encoded data removed]"
          },
          "metadata": {
            "needs_background": "light"
          }
        }
      ]
    },
    {
      "cell_type": "code",
      "source": [
        "from scipy.stats import pearsonr\n",
        "corr_train = pearsonr(train_csv[\"yield\"], pred_train)\n",
        "corr_test = pearsonr(test_csv[\"yield\"], pred_test)\n",
        "\n",
        "print(\"Train R2: \", corr_train)\n",
        "print(\"Test R2: \", corr_test)"
      ],
      "metadata": {
        "colab": {
          "base_uri": "https://localhost:8080/"
        },
        "id": "W54oLH7vspQt",
        "outputId": "a001e617-0cee-453b-e2c2-4fbee559c349"
      },
      "execution_count": 80,
      "outputs": [
        {
          "output_type": "stream",
          "name": "stdout",
          "text": [
            "Train R2:  (array([0.929177450273111], dtype=object), 0.0)\n",
            "Test R2:  (array([0.8242512022755414], dtype=object), 5.4364465216263646e-86)\n"
          ]
        }
      ]
    },
    {
      "cell_type": "markdown",
      "source": [
        "# Visualize trees"
      ],
      "metadata": {
        "id": "oq3P8porHOcm"
      }
    },
    {
      "cell_type": "code",
      "source": [
        "tfdf.model_plotter.plot_model_in_colab(model_1, tree_idx=8)"
      ],
      "metadata": {
        "colab": {
          "base_uri": "https://localhost:8080/",
          "height": 404
        },
        "id": "DTRTeMFlHYwF",
        "outputId": "21e522a2-fbcb-4098-d5ae-c41df4519c75"
      },
      "execution_count": 12,
      "outputs": [
        {
          "output_type": "execute_result",
          "data": {
            "text/plain": [
              "<IPython.core.display.HTML object>"
            ],
            "text/html": [
              "\n",
              "<script src=\"https://d3js.org/d3.v6.min.js\"></script>\n",
              "<div id=\"tree_plot_f0a788b0c2d34053a36db9c06d9898e1\"></div>\n",
              "<script>\n",
              "/*\n",
              " * Copyright 2021 Google LLC.\n",
              " * Licensed under the Apache License, Version 2.0 (the \"License\");\n",
              " * you may not use this file except in compliance with the License.\n",
              " * You may obtain a copy of the License at\n",
              " *\n",
              " *     https://www.apache.org/licenses/LICENSE-2.0\n",
              " *\n",
              " * Unless required by applicable law or agreed to in writing, software\n",
              " * distributed under the License is distributed on an \"AS IS\" BASIS,\n",
              " * WITHOUT WARRANTIES OR CONDITIONS OF ANY KIND, either express or implied.\n",
              " * See the License for the specific language governing permissions and\n",
              " * limitations under the License.\n",
              " */\n",
              "\n",
              "/**\n",
              " *  Plotting of decision trees generated by TF-DF.\n",
              " *\n",
              " *  A tree is a recursive structure of node objects.\n",
              " *  A node contains one or more of the following components:\n",
              " *\n",
              " *    - A value: Representing the output of the node. If the node is not a leaf,\n",
              " *      the value is only present for analysis i.e. it is not used for\n",
              " *      predictions.\n",
              " *\n",
              " *    - A condition : For non-leaf nodes, the condition (also known as split)\n",
              " *      defines a binary test to branch to the positive or negative child.\n",
              " *\n",
              " *    - An explanation: Generally a plot showing the relation between the label\n",
              " *      and the condition to give insights about the effect of the condition.\n",
              " *\n",
              " *    - Two children : For non-leaf nodes, the children nodes. The first\n",
              " *      children (i.e. \"node.children[0]\") is the negative children (drawn in\n",
              " *      red). The second children is the positive one (drawn in green).\n",
              " *\n",
              " */\n",
              "\n",
              "/**\n",
              " * Plots a single decision tree into a DOM element.\n",
              " * @param {!options} options Dictionary of configurations.\n",
              " * @param {!tree} raw_tree Recursive tree structure.\n",
              " * @param {string} canvas_id Id of the output dom element.\n",
              " */\n",
              "function display_tree(options, raw_tree, canvas_id) {\n",
              "  console.log(options);\n",
              "\n",
              "  // Determine the node placement.\n",
              "  const tree_struct = d3.tree().nodeSize(\n",
              "      [options.node_y_offset, options.node_x_offset])(d3.hierarchy(raw_tree));\n",
              "\n",
              "  // Boundaries of the node placement.\n",
              "  let x_min = Infinity;\n",
              "  let x_max = -x_min;\n",
              "  let y_min = Infinity;\n",
              "  let y_max = -x_min;\n",
              "\n",
              "  tree_struct.each(d => {\n",
              "    if (d.x > x_max) x_max = d.x;\n",
              "    if (d.x < x_min) x_min = d.x;\n",
              "    if (d.y > y_max) y_max = d.y;\n",
              "    if (d.y < y_min) y_min = d.y;\n",
              "  });\n",
              "\n",
              "  // Size of the plot.\n",
              "  const width = y_max - y_min + options.node_x_size + options.margin * 2;\n",
              "  const height = x_max - x_min + options.node_y_size + options.margin * 2 +\n",
              "      options.node_y_offset - options.node_y_size;\n",
              "\n",
              "  const plot = d3.select(canvas_id);\n",
              "\n",
              "  // Tool tip\n",
              "  options.tooltip = plot.append('div')\n",
              "                        .attr('width', 100)\n",
              "                        .attr('height', 100)\n",
              "                        .style('padding', '4px')\n",
              "                        .style('background', '#fff')\n",
              "                        .style('box-shadow', '4px 4px 0px rgba(0,0,0,0.1)')\n",
              "                        .style('border', '1px solid black')\n",
              "                        .style('font-family', 'sans-serif')\n",
              "                        .style('font-size', options.font_size)\n",
              "                        .style('position', 'absolute')\n",
              "                        .style('z-index', '10')\n",
              "                        .attr('pointer-events', 'none')\n",
              "                        .style('display', 'none');\n",
              "\n",
              "  // Create canvas\n",
              "  const svg = plot.append('svg').attr('width', width).attr('height', height);\n",
              "  const graph =\n",
              "      svg.style('overflow', 'visible')\n",
              "          .append('g')\n",
              "          .attr('font-family', 'sans-serif')\n",
              "          .attr('font-size', options.font_size)\n",
              "          .attr(\n",
              "              'transform',\n",
              "              () => `translate(${options.margin},${\n",
              "                  - x_min + options.node_y_offset / 2 + options.margin})`);\n",
              "\n",
              "  // Plot bounding box.\n",
              "  if (options.show_plot_bounding_box) {\n",
              "    svg.append('rect')\n",
              "        .attr('width', width)\n",
              "        .attr('height', height)\n",
              "        .attr('fill', 'none')\n",
              "        .attr('stroke-width', 1.0)\n",
              "        .attr('stroke', 'black');\n",
              "  }\n",
              "\n",
              "  // Draw the edges.\n",
              "  display_edges(options, graph, tree_struct);\n",
              "\n",
              "  // Draw the nodes.\n",
              "  display_nodes(options, graph, tree_struct);\n",
              "}\n",
              "\n",
              "/**\n",
              " * Draw the nodes of the tree.\n",
              " * @param {!options} options Dictionary of configurations.\n",
              " * @param {!graph} graph D3 search handle containing the graph.\n",
              " * @param {!tree_struct} tree_struct Structure of the tree (node placement,\n",
              " *     data, etc.).\n",
              " */\n",
              "function display_nodes(options, graph, tree_struct) {\n",
              "  const nodes = graph.append('g')\n",
              "                    .selectAll('g')\n",
              "                    .data(tree_struct.descendants())\n",
              "                    .join('g')\n",
              "                    .attr('transform', d => `translate(${d.y},${d.x})`);\n",
              "\n",
              "  nodes.append('rect')\n",
              "      .attr('x', 0.5)\n",
              "      .attr('y', 0.5)\n",
              "      .attr('width', options.node_x_size)\n",
              "      .attr('height', options.node_y_size)\n",
              "      .attr('stroke', 'lightgrey')\n",
              "      .attr('stroke-width', 1)\n",
              "      .attr('fill', 'white')\n",
              "      .attr('y', -options.node_y_size / 2);\n",
              "\n",
              "  // Brackets on the right of condition nodes without children.\n",
              "  non_leaf_node_without_children =\n",
              "      nodes.filter(node => node.data.condition != null && node.children == null)\n",
              "          .append('g')\n",
              "          .attr('transform', `translate(${options.node_x_size},0)`);\n",
              "\n",
              "  non_leaf_node_without_children.append('path')\n",
              "      .attr('d', 'M0,0 C 10,0 0,10 10,10')\n",
              "      .attr('fill', 'none')\n",
              "      .attr('stroke-width', 1.0)\n",
              "      .attr('stroke', '#F00');\n",
              "\n",
              "  non_leaf_node_without_children.append('path')\n",
              "      .attr('d', 'M0,0 C 10,0 0,-10 10,-10')\n",
              "      .attr('fill', 'none')\n",
              "      .attr('stroke-width', 1.0)\n",
              "      .attr('stroke', '#0F0');\n",
              "\n",
              "  const node_content = nodes.append('g').attr(\n",
              "      'transform',\n",
              "      `translate(0,${options.node_padding - options.node_y_size / 2})`);\n",
              "\n",
              "  node_content.append(node => create_node_element(options, node));\n",
              "}\n",
              "\n",
              "/**\n",
              " * Creates the D3 content for a single node.\n",
              " * @param {!options} options Dictionary of configurations.\n",
              " * @param {!node} node Node to draw.\n",
              " * @return {!d3} D3 content.\n",
              " */\n",
              "function create_node_element(options, node) {\n",
              "  // Output accumulator.\n",
              "  let output = {\n",
              "    // Content to draw.\n",
              "    content: d3.create('svg:g'),\n",
              "    // Vertical offset to the next element to draw.\n",
              "    vertical_offset: 0\n",
              "  };\n",
              "\n",
              "  // Conditions.\n",
              "  if (node.data.condition != null) {\n",
              "    display_condition(options, node.data.condition, output);\n",
              "  }\n",
              "\n",
              "  // Values.\n",
              "  if (node.data.value != null) {\n",
              "    display_value(options, node.data.value, output);\n",
              "  }\n",
              "\n",
              "  // Explanations.\n",
              "  if (node.data.explanation != null) {\n",
              "    display_explanation(options, node.data.explanation, output);\n",
              "  }\n",
              "\n",
              "  return output.content.node();\n",
              "}\n",
              "\n",
              "\n",
              "/**\n",
              " * Adds a single line of text inside of a node.\n",
              " * @param {!options} options Dictionary of configurations.\n",
              " * @param {string} text Text to display.\n",
              " * @param {!output} output Output display accumulator.\n",
              " */\n",
              "function display_node_text(options, text, output) {\n",
              "  output.content.append('text')\n",
              "      .attr('x', options.node_padding)\n",
              "      .attr('y', output.vertical_offset)\n",
              "      .attr('alignment-baseline', 'hanging')\n",
              "      .text(text);\n",
              "  output.vertical_offset += 10;\n",
              "}\n",
              "\n",
              "/**\n",
              " * Adds a single line of text inside of a node with a tooltip.\n",
              " * @param {!options} options Dictionary of configurations.\n",
              " * @param {string} text Text to display.\n",
              " * @param {string} tooltip Text in the Tooltip.\n",
              " * @param {!output} output Output display accumulator.\n",
              " */\n",
              "function display_node_text_with_tooltip(options, text, tooltip, output) {\n",
              "  const item = output.content.append('text')\n",
              "                   .attr('x', options.node_padding)\n",
              "                   .attr('alignment-baseline', 'hanging')\n",
              "                   .text(text);\n",
              "\n",
              "  add_tooltip(options, item, () => tooltip);\n",
              "  output.vertical_offset += 10;\n",
              "}\n",
              "\n",
              "/**\n",
              " * Adds a tooltip to a dom element.\n",
              " * @param {!options} options Dictionary of configurations.\n",
              " * @param {!dom} target Dom element to equip with a tooltip.\n",
              " * @param {!func} get_content Generates the html content of the tooltip.\n",
              " */\n",
              "function add_tooltip(options, target, get_content) {\n",
              "  function show(d) {\n",
              "    options.tooltip.style('display', 'block');\n",
              "    options.tooltip.html(get_content());\n",
              "  }\n",
              "\n",
              "  function hide(d) {\n",
              "    options.tooltip.style('display', 'none');\n",
              "  }\n",
              "\n",
              "  function move(d) {\n",
              "    options.tooltip.style('display', 'block');\n",
              "    options.tooltip.style('left', (d.pageX + 5) + 'px');\n",
              "    options.tooltip.style('top', d.pageY + 'px');\n",
              "  }\n",
              "\n",
              "  target.on('mouseover', show);\n",
              "  target.on('mouseout', hide);\n",
              "  target.on('mousemove', move);\n",
              "}\n",
              "\n",
              "/**\n",
              " * Adds a condition inside of a node.\n",
              " * @param {!options} options Dictionary of configurations.\n",
              " * @param {!condition} condition Condition to display.\n",
              " * @param {!output} output Output display accumulator.\n",
              " */\n",
              "function display_condition(options, condition, output) {\n",
              "  threshold_format = d3.format('r');\n",
              "\n",
              "  if (condition.type === 'IS_MISSING') {\n",
              "    display_node_text(options, `${condition.attribute} is missing`, output);\n",
              "    return;\n",
              "  }\n",
              "\n",
              "  if (condition.type === 'IS_TRUE') {\n",
              "    display_node_text(options, `${condition.attribute} is true`, output);\n",
              "    return;\n",
              "  }\n",
              "\n",
              "  if (condition.type === 'NUMERICAL_IS_HIGHER_THAN') {\n",
              "    format = d3.format('r');\n",
              "    display_node_text(\n",
              "        options,\n",
              "        `${condition.attribute} >= ${threshold_format(condition.threshold)}`,\n",
              "        output);\n",
              "    return;\n",
              "  }\n",
              "\n",
              "  if (condition.type === 'CATEGORICAL_IS_IN') {\n",
              "    display_node_text_with_tooltip(\n",
              "        options, `${condition.attribute} in [...]`,\n",
              "        `${condition.attribute} in [${condition.mask}]`, output);\n",
              "    return;\n",
              "  }\n",
              "\n",
              "  if (condition.type === 'CATEGORICAL_SET_CONTAINS') {\n",
              "    display_node_text_with_tooltip(\n",
              "        options, `${condition.attribute} intersect [...]`,\n",
              "        `${condition.attribute} intersect [${condition.mask}]`, output);\n",
              "    return;\n",
              "  }\n",
              "\n",
              "  if (condition.type === 'NUMERICAL_SPARSE_OBLIQUE') {\n",
              "    display_node_text_with_tooltip(\n",
              "        options, `Sparse oblique split...`,\n",
              "        `[${condition.attributes}]*[${condition.weights}]>=${\n",
              "            threshold_format(condition.threshold)}`,\n",
              "        output);\n",
              "    return;\n",
              "  }\n",
              "\n",
              "  display_node_text(\n",
              "      options, `Non supported condition ${condition.type}`, output);\n",
              "}\n",
              "\n",
              "/**\n",
              " * Adds a value inside of a node.\n",
              " * @param {!options} options Dictionary of configurations.\n",
              " * @param {!value} value Value to display.\n",
              " * @param {!output} output Output display accumulator.\n",
              " */\n",
              "function display_value(options, value, output) {\n",
              "  if (value.type === 'PROBABILITY') {\n",
              "    const left_margin = 0;\n",
              "    const right_margin = 50;\n",
              "    const plot_width = options.node_x_size - options.node_padding * 2 -\n",
              "        left_margin - right_margin;\n",
              "\n",
              "    let cusum = Array.from(d3.cumsum(value.distribution));\n",
              "    cusum.unshift(0);\n",
              "    const distribution_plot = output.content.append('g').attr(\n",
              "        'transform', `translate(0,${output.vertical_offset + 0.5})`);\n",
              "\n",
              "    distribution_plot.selectAll('rect')\n",
              "        .data(value.distribution)\n",
              "        .join('rect')\n",
              "        .attr('height', 10)\n",
              "        .attr(\n",
              "            'x',\n",
              "            (d, i) =>\n",
              "                (cusum[i] * plot_width + left_margin + options.node_padding))\n",
              "        .attr('width', (d, i) => d * plot_width)\n",
              "        .style('fill', (d, i) => d3.schemeSet1[i]);\n",
              "\n",
              "    const num_examples =\n",
              "        output.content.append('g')\n",
              "            .attr('transform', `translate(0,${output.vertical_offset})`)\n",
              "            .append('text')\n",
              "            .attr('x', options.node_x_size - options.node_padding)\n",
              "            .attr('alignment-baseline', 'hanging')\n",
              "            .attr('text-anchor', 'end')\n",
              "            .text(`(${value.num_examples})`);\n",
              "\n",
              "    const distribution_details = d3.create('ul');\n",
              "    distribution_details.selectAll('li')\n",
              "        .data(value.distribution)\n",
              "        .join('li')\n",
              "        .append('span')\n",
              "        .text(\n",
              "            (d, i) =>\n",
              "                'class ' + i + ': ' + d3.format('.3%')(value.distribution[i]));\n",
              "\n",
              "    add_tooltip(options, distribution_plot, () => distribution_details.html());\n",
              "    add_tooltip(options, num_examples, () => 'Number of examples');\n",
              "\n",
              "    output.vertical_offset += 10;\n",
              "    return;\n",
              "  }\n",
              "\n",
              "  if (value.type === 'REGRESSION') {\n",
              "    display_node_text(\n",
              "        options,\n",
              "        'value: ' + d3.format('r')(value.value) + ` (` +\n",
              "            d3.format('.6')(value.num_examples) + `)`,\n",
              "        output);\n",
              "    return;\n",
              "  }\n",
              "\n",
              "  display_node_text(options, `Non supported value ${value.type}`, output);\n",
              "}\n",
              "\n",
              "/**\n",
              " * Adds an explanation inside of a node.\n",
              " * @param {!options} options Dictionary of configurations.\n",
              " * @param {!explanation} explanation Explanation to display.\n",
              " * @param {!output} output Output display accumulator.\n",
              " */\n",
              "function display_explanation(options, explanation, output) {\n",
              "  // Margin before the explanation.\n",
              "  output.vertical_offset += 10;\n",
              "\n",
              "  display_node_text(\n",
              "      options, `Non supported explanation ${explanation.type}`, output);\n",
              "}\n",
              "\n",
              "\n",
              "/**\n",
              " * Draw the edges of the tree.\n",
              " * @param {!options} options Dictionary of configurations.\n",
              " * @param {!graph} graph D3 search handle containing the graph.\n",
              " * @param {!tree_struct} tree_struct Structure of the tree (node placement,\n",
              " *     data, etc.).\n",
              " */\n",
              "function display_edges(options, graph, tree_struct) {\n",
              "  // Draw an edge between a parent and a child node with a bezier.\n",
              "  function draw_single_edge(d) {\n",
              "    return 'M' + (d.source.y + options.node_x_size) + ',' + d.source.x + ' C' +\n",
              "        (d.source.y + options.node_x_size + options.edge_rounding) + ',' +\n",
              "        d.source.x + ' ' + (d.target.y - options.edge_rounding) + ',' +\n",
              "        d.target.x + ' ' + d.target.y + ',' + d.target.x;\n",
              "  }\n",
              "\n",
              "  graph.append('g')\n",
              "      .attr('fill', 'none')\n",
              "      .attr('stroke-width', 1.2)\n",
              "      .selectAll('path')\n",
              "      .data(tree_struct.links())\n",
              "      .join('path')\n",
              "      .attr('d', draw_single_edge)\n",
              "      .attr(\n",
              "          'stroke', d => (d.target === d.source.children[0]) ? '#0F0' : '#F00');\n",
              "}\n",
              "\n",
              "display_tree({\"margin\": 10, \"node_x_size\": 160, \"node_y_size\": 28, \"node_x_offset\": 180, \"node_y_offset\": 33, \"font_size\": 10, \"edge_rounding\": 20, \"node_padding\": 2, \"show_plot_bounding_box\": false}, {\"value\": {\"type\": \"REGRESSION\", \"value\": 48.138999938964844, \"num_examples\": 800.0, \"standard_deviation\": 10.115063233757558}, \"condition\": {\"type\": \"NUMERICAL_IS_HIGHER_THAN\", \"attribute\": \"NDVI\", \"threshold\": 0.902137041091919}, \"children\": [{\"value\": {\"type\": \"REGRESSION\", \"value\": 52.68204116821289, \"num_examples\": 451.0, \"standard_deviation\": 7.680565939047097}, \"condition\": {\"type\": \"NUMERICAL_IS_HIGHER_THAN\", \"attribute\": \"ppt\", \"threshold\": 0.4650720953941345}, \"children\": [{\"value\": {\"type\": \"REGRESSION\", \"value\": 48.64896011352539, \"num_examples\": 192.0, \"standard_deviation\": 7.440821967176306}, \"condition\": {\"type\": \"NUMERICAL_IS_HIGHER_THAN\", \"attribute\": \"vpdmax\", \"threshold\": 0.6058129072189331}, \"children\": [{\"value\": {\"type\": \"REGRESSION\", \"value\": 43.09122848510742, \"num_examples\": 57.0, \"standard_deviation\": 8.15925402852219}, \"condition\": {\"type\": \"NUMERICAL_IS_HIGHER_THAN\", \"attribute\": \"ppt\", \"threshold\": 0.708710789680481}}, {\"value\": {\"type\": \"REGRESSION\", \"value\": 50.99555587768555, \"num_examples\": 135.0, \"standard_deviation\": 5.664403069245283}, \"condition\": {\"type\": \"NUMERICAL_IS_HIGHER_THAN\", \"attribute\": \"NDVI\", \"threshold\": 0.9259400367736816}}]}, {\"value\": {\"type\": \"REGRESSION\", \"value\": 55.67181396484375, \"num_examples\": 259.0, \"standard_deviation\": 6.378227521449409}, \"condition\": {\"type\": \"NUMERICAL_IS_HIGHER_THAN\", \"attribute\": \"NDVI\", \"threshold\": 0.9251773357391357}, \"children\": [{\"value\": {\"type\": \"REGRESSION\", \"value\": 59.8126335144043, \"num_examples\": 95.0, \"standard_deviation\": 4.738224711064741}, \"condition\": {\"type\": \"NUMERICAL_IS_HIGHER_THAN\", \"attribute\": \"vpdmax\", \"threshold\": 0.33741241693496704}}, {\"value\": {\"type\": \"REGRESSION\", \"value\": 53.273170471191406, \"num_examples\": 164.0, \"standard_deviation\": 5.96293520048063}, \"condition\": {\"type\": \"NUMERICAL_IS_HIGHER_THAN\", \"attribute\": \"tmean\", \"threshold\": 0.23805876076221466}}]}]}, {\"value\": {\"type\": \"REGRESSION\", \"value\": 42.26819610595703, \"num_examples\": 349.0, \"standard_deviation\": 9.85708455664076}, \"condition\": {\"type\": \"NUMERICAL_IS_HIGHER_THAN\", \"attribute\": \"ppt\", \"threshold\": 0.13013675808906555}, \"children\": [{\"value\": {\"type\": \"REGRESSION\", \"value\": 44.54523849487305, \"num_examples\": 294.0, \"standard_deviation\": 8.536825071662777}, \"condition\": {\"type\": \"NUMERICAL_IS_HIGHER_THAN\", \"attribute\": \"tmean\", \"threshold\": 0.17795200645923615}, \"children\": [{\"value\": {\"type\": \"REGRESSION\", \"value\": 45.021453857421875, \"num_examples\": 275.0, \"standard_deviation\": 8.524583780496622}, \"condition\": {\"type\": \"NUMERICAL_IS_HIGHER_THAN\", \"attribute\": \"NDVI\", \"threshold\": 0.8219735026359558}}, {\"value\": {\"type\": \"REGRESSION\", \"value\": 37.65263366699219, \"num_examples\": 19.0, \"standard_deviation\": 5.010975447665345}, \"condition\": {\"type\": \"NUMERICAL_IS_HIGHER_THAN\", \"attribute\": \"vpdmax\", \"threshold\": 0.19755975902080536}}]}, {\"value\": {\"type\": \"REGRESSION\", \"value\": 30.096363067626953, \"num_examples\": 55.0, \"standard_deviation\": 7.148831993017672}, \"condition\": {\"type\": \"NUMERICAL_IS_HIGHER_THAN\", \"attribute\": \"NDVI\", \"threshold\": 0.7973488569259644}, \"children\": [{\"value\": {\"type\": \"REGRESSION\", \"value\": 32.27381134033203, \"num_examples\": 42.0, \"standard_deviation\": 4.464945193429814}, \"condition\": {\"type\": \"NUMERICAL_IS_HIGHER_THAN\", \"attribute\": \"NDVI\", \"threshold\": 0.8222304582595825}}, {\"value\": {\"type\": \"REGRESSION\", \"value\": 23.061538696289062, \"num_examples\": 13.0, \"standard_deviation\": 9.327505731931975}, \"condition\": {\"type\": \"NUMERICAL_IS_HIGHER_THAN\", \"attribute\": \"ppt\", \"threshold\": 0.07162122428417206}}]}]}]}, \"#tree_plot_f0a788b0c2d34053a36db9c06d9898e1\")\n",
              "</script>\n"
            ]
          },
          "metadata": {},
          "execution_count": 12
        }
      ]
    },
    {
      "cell_type": "markdown",
      "source": [
        "# Save model"
      ],
      "metadata": {
        "id": "eLpbP3cXXX2R"
      }
    },
    {
      "cell_type": "code",
      "source": [
        "OUTPUT_BUCKET = \"my_bucket\"\n",
        "MODEL_DIR = 'gs://' + OUTPUT_BUCKET + '/randomForest_v1'\n",
        "model_1.save(MODEL_DIR, save_format='tf')"
      ],
      "metadata": {
        "id": "tmAoLT1uXZS3"
      },
      "execution_count": null,
      "outputs": []
    },
    {
      "cell_type": "markdown",
      "source": [
        ""
      ],
      "metadata": {
        "id": "ruV4JN-z1ceL"
      }
    },
    {
      "cell_type": "markdown",
      "source": [
        "# Predict on pixel samples"
      ],
      "metadata": {
        "id": "rTXEnzmt1eB5"
      }
    },
    {
      "cell_type": "code",
      "source": [
        "import glob\n",
        "all_files = glob.glob(\"/content/drive/MyDrive/pixel-samples/*.csv\")\n",
        "df = pd.concat((pd.read_csv(f) for f in all_files))\n",
        "pixel_df = df.drop(['system:index', '.geo'], 1)\n",
        "print(pixel_df)"
      ],
      "metadata": {
        "colab": {
          "base_uri": "https://localhost:8080/"
        },
        "id": "3JN9rrro1hp8",
        "outputId": "004163b0-b0bb-40ea-d148-702c796407d0"
      },
      "execution_count": 81,
      "outputs": [
        {
          "output_type": "stream",
          "name": "stdout",
          "text": [
            "          NDVI       ppt     tmean    vpdmax\n",
            "0     0.905716  0.262071  0.293957  0.259374\n",
            "1     0.707675  0.104162  0.218346  0.359268\n",
            "2     0.931551  0.203846  0.300541  0.298647\n",
            "3     0.906061  0.290051  0.330722  0.325552\n",
            "4     0.910585  0.291236  0.331501  0.327365\n",
            "...        ...       ...       ...       ...\n",
            "4928  0.920177  0.670852  0.644762  0.526448\n",
            "4929  0.927792  0.645546  0.649229  0.468212\n",
            "4930  0.905540  0.619921  0.675105  0.418915\n",
            "4931  0.868758  0.534144  0.705393  0.462084\n",
            "4932  0.915016  0.536381  0.705949  0.525964\n",
            "\n",
            "[183218 rows x 4 columns]\n"
          ]
        },
        {
          "output_type": "stream",
          "name": "stderr",
          "text": [
            "/usr/local/lib/python3.7/dist-packages/ipykernel_launcher.py:4: FutureWarning: In a future version of pandas all arguments of DataFrame.drop except for the argument 'labels' will be keyword-only\n",
            "  after removing the cwd from sys.path.\n"
          ]
        }
      ]
    },
    {
      "cell_type": "code",
      "source": [
        "pixel_ds = tfdf.keras.pd_dataframe_to_tf_dataset(pixel_df)\n",
        "pixel_ds"
      ],
      "metadata": {
        "colab": {
          "base_uri": "https://localhost:8080/"
        },
        "id": "Q9YqcLgv1_rU",
        "outputId": "c90ce3cc-148a-4efa-cd77-714aa0ed634f"
      },
      "execution_count": 82,
      "outputs": [
        {
          "output_type": "execute_result",
          "data": {
            "text/plain": [
              "<PrefetchDataset element_spec={'NDVI': TensorSpec(shape=(None,), dtype=tf.float64, name=None), 'ppt': TensorSpec(shape=(None,), dtype=tf.float64, name=None), 'tmean': TensorSpec(shape=(None,), dtype=tf.float64, name=None), 'vpdmax': TensorSpec(shape=(None,), dtype=tf.float64, name=None)}>"
            ]
          },
          "metadata": {},
          "execution_count": 82
        }
      ]
    },
    {
      "cell_type": "code",
      "source": [
        "pred_pixel = model_1.predict(pixel_ds)\n",
        "pred_pixel"
      ],
      "metadata": {
        "colab": {
          "base_uri": "https://localhost:8080/"
        },
        "id": "n7U2qidt2Hf9",
        "outputId": "50f0edda-179b-4820-9061-06abbb16c6ba"
      },
      "execution_count": 83,
      "outputs": [
        {
          "output_type": "stream",
          "name": "stdout",
          "text": [
            "184/184 [==============================] - 5s 29ms/step\n"
          ]
        },
        {
          "output_type": "execute_result",
          "data": {
            "text/plain": [
              "array([[51.7841  ],\n",
              "       [25.457336],\n",
              "       [59.944138],\n",
              "       ...,\n",
              "       [53.092293],\n",
              "       [49.509132],\n",
              "       [51.009563]], dtype=float32)"
            ]
          },
          "metadata": {},
          "execution_count": 83
        }
      ]
    },
    {
      "cell_type": "code",
      "source": [
        "import matplotlib.pyplot as plt\n",
        "\n",
        "plt.figure(figsize=(10,10))\n",
        "# plt.plot(train_csv[\"yield\"], train_csv[\"yield\"], c='black')\n",
        "# plt.plot(test_csv[\"yield\"], test_csv[\"yield\"], c='black')\n",
        "# plt.scatter(train_csv[\"yield\"], pred_train, c='blue')\n",
        "# plt.scatter(test_csv[\"yield\"], pred_test, c='crimson')\n",
        "plt.scatter(pixel_df[\"tmean\"], pred_pixel, c='pink')\n",
        "plt.scatter(train_csv[\"tmean\"], train_csv[\"yield\"], c='green')\n",
        "# plt.xscale(\"log\")\n",
        "# plt.yscale(\"log\")"
      ],
      "metadata": {
        "colab": {
          "base_uri": "https://localhost:8080/",
          "height": 609
        },
        "id": "rxzHpdnA3qrZ",
        "outputId": "3df522b4-9416-4922-d709-28817b8f3c41"
      },
      "execution_count": 84,
      "outputs": [
        {
          "output_type": "execute_result",
          "data": {
            "text/plain": [
              "<matplotlib.collections.PathCollection at 0x7fd8bc289190>"
            ]
          },
          "metadata": {},
          "execution_count": 84
        },
        {
          "output_type": "display_data",
          "data": {
            "text/plain": [
              "<Figure size 720x720 with 1 Axes>"
            ],
            "image/png": "[encoded data removed]"
          },
          "metadata": {
            "needs_background": "light"
          }
        }
      ]
    },
    {
      "cell_type": "code",
      "source": [
        "plt.figure(figsize=(10,10))\n",
        "plt.hist(pred_pixel, facecolor='pink')"
      ],
      "metadata": {
        "colab": {
          "base_uri": "https://localhost:8080/",
          "height": 696
        },
        "id": "3rNvArhW4PPp",
        "outputId": "b603961f-c6ee-4dce-8a14-5ee796740524"
      },
      "execution_count": 85,
      "outputs": [
        {
          "output_type": "execute_result",
          "data": {
            "text/plain": [
              "(array([  174.,  1414.,  5756.,  9697., 14630., 28417., 34072., 48234.,\n",
              "        28841., 11983.]),\n",
              " array([18.286276, 23.022585, 27.758892, 32.4952  , 37.23151 , 41.96782 ,\n",
              "        46.70413 , 51.440434, 56.176743, 60.91305 , 65.64936 ],\n",
              "       dtype=float32),\n",
              " <a list of 10 Patch objects>)"
            ]
          },
          "metadata": {},
          "execution_count": 85
        },
        {
          "output_type": "display_data",
          "data": {
            "text/plain": [
              "<Figure size 720x720 with 1 Axes>"
            ],
            "image/png": "[encoded data removed]"
          },
          "metadata": {
            "needs_background": "light"
          }
        }
      ]
    },
    {
      "cell_type": "code",
      "source": [
        "plt.figure(figsize=(10,10))\n",
        "plt.hist(pred_test, facecolor='g')"
      ],
      "metadata": {
        "colab": {
          "base_uri": "https://localhost:8080/",
          "height": 679
        },
        "id": "aqoAqcXR4XHy",
        "outputId": "dfd66eb9-9763-4a62-e9a0-26d32e59737e"
      },
      "execution_count": 86,
      "outputs": [
        {
          "output_type": "execute_result",
          "data": {
            "text/plain": [
              "(array([ 6.,  6.,  9., 16., 48., 74., 74., 60., 34., 15.]),\n",
              " array([23.735634, 27.865376, 31.995117, 36.12486 , 40.2546  , 44.384342,\n",
              "        48.514084, 52.643826, 56.773567, 60.90331 , 65.03305 ],\n",
              "       dtype=float32),\n",
              " <a list of 10 Patch objects>)"
            ]
          },
          "metadata": {},
          "execution_count": 86
        },
        {
          "output_type": "display_data",
          "data": {
            "text/plain": [
              "<Figure size 720x720 with 1 Axes>"
            ],
            "image/png": "[encoded data removed]"
          },
          "metadata": {
            "needs_background": "light"
          }
        }
      ]
    }
  ]
}