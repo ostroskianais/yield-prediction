{
  "nbformat": 4,
  "nbformat_minor": 0,
  "metadata": {
    "colab": {
      "name": "yield-model.ipynb",
      "provenance": [],
      "authorship_tag": "ABX9TyNSAiefwQeWScZxlD8avIAb",
      "include_colab_link": true
    },
    "kernelspec": {
      "name": "python3",
      "display_name": "Python 3"
    },
    "language_info": {
      "name": "python"
    }
  },
  "cells": [
    {
      "cell_type": "markdown",
      "metadata": {
        "id": "view-in-github",
        "colab_type": "text"
      },
      "source": [
        "<a href=\"https://colab.research.google.com/github/ostroskianais/yield-prediction/blob/main/yield_model.ipynb\" target=\"_parent\"><img src=\"https://colab.research.google.com/assets/colab-badge.svg\" alt=\"Open In Colab\"/></a>"
      ]
    },
    {
      "cell_type": "markdown",
      "source": [
        "# Data"
      ],
      "metadata": {
        "id": "AkMFQbkbzopy"
      }
    },
    {
      "cell_type": "code",
      "source": [
        "import tensorflow as tf\n",
        "import numpy as np\n",
        "import pandas as pd # For reading .csv\n",
        "from datetime import datetime # For knowing how long does each read/write take\n",
        "\n",
        "train_csv = pd.read_csv(\"/content/train.csv\")\n",
        "test_csv = pd.read_csv(\"/content/test.csv\")"
      ],
      "metadata": {
        "id": "GWkK5QJYzjB0"
      },
      "execution_count": 4,
      "outputs": []
    },
    {
      "cell_type": "code",
      "source": [
        "def df_to_dataset(dataframe, shuffle=True, batch_size=1):\n",
        "  #Creates a tf.data dataset from pandas dataframe\n",
        "  dataframe = dataframe.copy()\n",
        "  labels = dataframe.pop('yield')\n",
        "  ds = tf.data.Dataset.from_tensor_slices((dict(dataframe), labels))\n",
        "  if shuffle:\n",
        "    ds = ds.shuffle(buffer_size=len(dataframe))\n",
        "  # Process a batch-size at a time\n",
        "  ds = ds.batch(batch_size)\n",
        "  # Prefetching allows us to optimise fethcing of data and training\n",
        "  ds = ds.prefetch(batch_size)\n",
        "  return ds"
      ],
      "metadata": {
        "id": "folYKaJm1GHR"
      },
      "execution_count": 118,
      "outputs": []
    },
    {
      "cell_type": "code",
      "source": [
        "train_ds = df_to_dataset(train_csv)\n",
        "test_ds = df_to_dataset(test_csv)\n",
        "train_ds"
      ],
      "metadata": {
        "colab": {
          "base_uri": "https://localhost:8080/"
        },
        "id": "VGZOWJ6i2I2R",
        "outputId": "13e072d6-9496-4abd-9f85-864bd6db11a2"
      },
      "execution_count": 119,
      "outputs": [
        {
          "output_type": "execute_result",
          "data": {
            "text/plain": [
              "<PrefetchDataset element_spec=({'NDVI': TensorSpec(shape=(None,), dtype=tf.float64, name=None), 'tmean': TensorSpec(shape=(None,), dtype=tf.float64, name=None), 'medianArea': TensorSpec(shape=(None,), dtype=tf.float64, name=None), 'vpdmax': TensorSpec(shape=(None,), dtype=tf.float64, name=None), 'ppt': TensorSpec(shape=(None,), dtype=tf.float64, name=None)}, TensorSpec(shape=(None,), dtype=tf.float64, name=None))>"
            ]
          },
          "metadata": {},
          "execution_count": 119
        }
      ]
    },
    {
      "cell_type": "code",
      "source": [
        "[(train_features, label_batch)] = train_ds.take(1)\n",
        "print('Every feature:', list(train_features.keys()))\n",
        "print('A batch of NDVI: ', train_features['NDVI'])\n",
        "print('A batch of labels: ', label_batch)"
      ],
      "metadata": {
        "colab": {
          "base_uri": "https://localhost:8080/"
        },
        "id": "bwA8dR4q2gyy",
        "outputId": "6f77aae7-1fe1-45cc-a8c3-de18ab12a8c8"
      },
      "execution_count": 120,
      "outputs": [
        {
          "output_type": "stream",
          "name": "stdout",
          "text": [
            "Every feature: ['NDVI', 'tmean', 'medianArea', 'vpdmax', 'ppt']\n",
            "A batch of NDVI:  tf.Tensor([0.89607665], shape=(1,), dtype=float64)\n",
            "A batch of labels:  tf.Tensor([42.8], shape=(1,), dtype=float64)\n"
          ]
        }
      ]
    },
    {
      "cell_type": "code",
      "source": [
        "all_inputs = []\n",
        "\n",
        "columns = ['NDVI', 'tmean', 'medianArea', 'vpdmax', 'ppt']\n",
        "for column_name in columns:\n",
        "  column = tf.keras.Input(shape=(1,), name=column_name)\n",
        "  all_inputs.append(column)\n",
        "\n",
        "all_inputs"
      ],
      "metadata": {
        "colab": {
          "base_uri": "https://localhost:8080/"
        },
        "id": "eqtOX_ll8xD_",
        "outputId": "7a7c61eb-5a4c-4f59-9565-6f65b42d2426"
      },
      "execution_count": 121,
      "outputs": [
        {
          "output_type": "execute_result",
          "data": {
            "text/plain": [
              "[<KerasTensor: shape=(None, 1) dtype=float32 (created by layer 'NDVI')>,\n",
              " <KerasTensor: shape=(None, 1) dtype=float32 (created by layer 'tmean')>,\n",
              " <KerasTensor: shape=(None, 1) dtype=float32 (created by layer 'medianArea')>,\n",
              " <KerasTensor: shape=(None, 1) dtype=float32 (created by layer 'vpdmax')>,\n",
              " <KerasTensor: shape=(None, 1) dtype=float32 (created by layer 'ppt')>]"
            ]
          },
          "metadata": {},
          "execution_count": 121
        }
      ]
    },
    {
      "cell_type": "code",
      "source": [
        "all_features = tf.keras.layers.concatenate(all_inputs)\n",
        "# output_layer = tf.keras.layers.Dense(300)\n",
        "x = tf.keras.layers.Dense(10, activation=\"relu\")(all_features)\n",
        "x = tf.keras.layers.Dense(20, activation=\"relu\")(x)\n",
        "x = tf.keras.layers.Dropout(0.1)(x)\n",
        "output = tf.keras.layers.Dense(1)(x)"
      ],
      "metadata": {
        "id": "rTz-urzv8JCI"
      },
      "execution_count": 140,
      "outputs": []
    },
    {
      "cell_type": "markdown",
      "source": [
        "# Model"
      ],
      "metadata": {
        "id": "GBy5EZGJ8HZp"
      }
    },
    {
      "cell_type": "code",
      "source": [
        ""
      ],
      "metadata": {
        "id": "GYTOqSerL4kz"
      },
      "execution_count": null,
      "outputs": []
    },
    {
      "cell_type": "code",
      "source": [
        "\n",
        "model = tf.keras.Model(all_inputs, output)\n",
        "\n",
        "model.compile(optimizer=\"adam\",\n",
        "              loss=tf.keras.losses.MeanSquaredError(),\n",
        "              metrics=[\"mean_squared_error\"])"
      ],
      "metadata": {
        "id": "xiDsuMoLKu4b"
      },
      "execution_count": 141,
      "outputs": []
    },
    {
      "cell_type": "code",
      "source": [
        "model.fit(train_ds, epochs=10)"
      ],
      "metadata": {
        "colab": {
          "base_uri": "https://localhost:8080/"
        },
        "id": "xHkx1iwYLj4C",
        "outputId": "3f234c76-1d3a-4436-b694-a42b74ea333e"
      },
      "execution_count": 142,
      "outputs": [
        {
          "output_type": "stream",
          "name": "stdout",
          "text": [
            "Epoch 1/10\n",
            "800/800 [==============================] - 2s 2ms/step - loss: 880.2983 - mean_squared_error: 880.2983\n",
            "Epoch 2/10\n",
            "800/800 [==============================] - 1s 2ms/step - loss: 131.1559 - mean_squared_error: 131.1559\n",
            "Epoch 3/10\n",
            "800/800 [==============================] - 1s 2ms/step - loss: 122.3255 - mean_squared_error: 122.3255\n",
            "Epoch 4/10\n",
            "800/800 [==============================] - 1s 2ms/step - loss: 125.0108 - mean_squared_error: 125.0108\n",
            "Epoch 5/10\n",
            "800/800 [==============================] - 1s 2ms/step - loss: 118.8073 - mean_squared_error: 118.8073\n",
            "Epoch 6/10\n",
            "800/800 [==============================] - 1s 2ms/step - loss: 120.0514 - mean_squared_error: 120.0514\n",
            "Epoch 7/10\n",
            "800/800 [==============================] - 1s 2ms/step - loss: 115.8550 - mean_squared_error: 115.8550\n",
            "Epoch 8/10\n",
            "800/800 [==============================] - 1s 2ms/step - loss: 121.4879 - mean_squared_error: 121.4879\n",
            "Epoch 9/10\n",
            "800/800 [==============================] - 1s 2ms/step - loss: 113.7428 - mean_squared_error: 113.7428\n",
            "Epoch 10/10\n",
            "800/800 [==============================] - 1s 2ms/step - loss: 116.5207 - mean_squared_error: 116.5207\n"
          ]
        },
        {
          "output_type": "execute_result",
          "data": {
            "text/plain": [
              "<keras.callbacks.History at 0x7fa5e279b1d0>"
            ]
          },
          "metadata": {},
          "execution_count": 142
        }
      ]
    },
    {
      "cell_type": "code",
      "source": [
        "model.evaluate(test_ds)"
      ],
      "metadata": {
        "colab": {
          "base_uri": "https://localhost:8080/"
        },
        "id": "RINmFlp4LpmB",
        "outputId": "61dcb50d-72b4-4559-a1af-7eb1a68c1d58"
      },
      "execution_count": 143,
      "outputs": [
        {
          "output_type": "stream",
          "name": "stdout",
          "text": [
            "342/342 [==============================] - 1s 2ms/step - loss: 65.8049 - mean_squared_error: 65.8049\n"
          ]
        },
        {
          "output_type": "execute_result",
          "data": {
            "text/plain": [
              "[65.8049087524414, 65.8049087524414]"
            ]
          },
          "metadata": {},
          "execution_count": 143
        }
      ]
    },
    {
      "cell_type": "code",
      "source": [
        "model.summary()"
      ],
      "metadata": {
        "colab": {
          "base_uri": "https://localhost:8080/"
        },
        "id": "kYNZ8ArxMxhG",
        "outputId": "7380b956-102d-43f5-f90f-0071f255a6d2"
      },
      "execution_count": 144,
      "outputs": [
        {
          "output_type": "stream",
          "name": "stdout",
          "text": [
            "Model: \"model_17\"\n",
            "__________________________________________________________________________________________________\n",
            " Layer (type)                   Output Shape         Param #     Connected to                     \n",
            "==================================================================================================\n",
            " NDVI (InputLayer)              [(None, 1)]          0           []                               \n",
            "                                                                                                  \n",
            " tmean (InputLayer)             [(None, 1)]          0           []                               \n",
            "                                                                                                  \n",
            " medianArea (InputLayer)        [(None, 1)]          0           []                               \n",
            "                                                                                                  \n",
            " vpdmax (InputLayer)            [(None, 1)]          0           []                               \n",
            "                                                                                                  \n",
            " ppt (InputLayer)               [(None, 1)]          0           []                               \n",
            "                                                                                                  \n",
            " concatenate_16 (Concatenate)   (None, 5)            0           ['NDVI[0][0]',                   \n",
            "                                                                  'tmean[0][0]',                  \n",
            "                                                                  'medianArea[0][0]',             \n",
            "                                                                  'vpdmax[0][0]',                 \n",
            "                                                                  'ppt[0][0]']                    \n",
            "                                                                                                  \n",
            " dense_60 (Dense)               (None, 10)           60          ['concatenate_16[0][0]']         \n",
            "                                                                                                  \n",
            " dense_61 (Dense)               (None, 20)           220         ['dense_60[0][0]']               \n",
            "                                                                                                  \n",
            " dropout_12 (Dropout)           (None, 20)           0           ['dense_61[0][0]']               \n",
            "                                                                                                  \n",
            " dense_62 (Dense)               (None, 1)            21          ['dropout_12[0][0]']             \n",
            "                                                                                                  \n",
            "==================================================================================================\n",
            "Total params: 301\n",
            "Trainable params: 301\n",
            "Non-trainable params: 0\n",
            "__________________________________________________________________________________________________\n"
          ]
        }
      ]
    }
  ]
}